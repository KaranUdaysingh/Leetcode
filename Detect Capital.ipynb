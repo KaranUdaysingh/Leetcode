{
 "cells": [
  {
   "cell_type": "markdown",
   "id": "8f859fd5",
   "metadata": {},
   "source": [
    "We define the usage of capitals in a word to be right when one of the following cases holds:\n",
    "\n",
    "All letters in this word are capitals, like \"USA\".\n",
    "All letters in this word are not capitals, like \"leetcode\".\n",
    "Only the first letter in this word is capital, like \"Google\".\n",
    "Given a string word, return true if the usage of capitals in it is right.\n",
    "\n",
    " \n",
    "\n",
    "Example 1:\n",
    "\n",
    "Input: word = \"USA\"\n",
    "Output: true\n",
    "\n",
    "Example 2:\n",
    "\n",
    "Input: word = \"FlaG\"\n",
    "Output: false\n",
    " \n",
    "\n",
    "Constraints:\n",
    "\n",
    "1 <= word.length <= 100\n",
    "word consists of lowercase and uppercase English letters."
   ]
  },
  {
   "cell_type": "code",
   "execution_count": null,
   "id": "63921fbf",
   "metadata": {},
   "outputs": [],
   "source": [
    "def detectCapitalUse(self, word):\n",
    "    \"\"\"\n",
    "    :type word: str\n",
    "    :rtype: bool\n",
    "    \"\"\"\n",
    "    if word.islower()==True:\n",
    "        return(True)\n",
    "    elif word.isupper()==True:\n",
    "        return(True)\n",
    "    elif word[0].isupper()==True and word[1:len(word)].islower()==True:\n",
    "        return(True)\n",
    "    else:\n",
    "        return(False)\n",
    "        "
   ]
  }
 ],
 "metadata": {
  "kernelspec": {
   "display_name": "Python 3",
   "language": "python",
   "name": "python3"
  },
  "language_info": {
   "codemirror_mode": {
    "name": "ipython",
    "version": 3
   },
   "file_extension": ".py",
   "mimetype": "text/x-python",
   "name": "python",
   "nbconvert_exporter": "python",
   "pygments_lexer": "ipython3",
   "version": "3.8.8"
  }
 },
 "nbformat": 4,
 "nbformat_minor": 5
}
