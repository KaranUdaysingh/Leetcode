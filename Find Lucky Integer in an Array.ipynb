{
 "cells": [
  {
   "cell_type": "markdown",
   "id": "897ee2ea",
   "metadata": {},
   "source": [
    "Given an array of integers arr, a lucky integer is an integer that has a frequency in the array equal to its value.\n",
    "\n",
    "Return the largest lucky integer in the array. If there is no lucky integer return -1.\n",
    "\n",
    " \n",
    "\n",
    "Example 1:\n",
    "\n",
    "Input: arr = [2,2,3,4]\n",
    "Output: 2\n",
    "Explanation: The only lucky number in the array is 2 because frequency[2] == 2.\n",
    "\n",
    "Example 2:\n",
    "\n",
    "Input: arr = [1,2,2,3,3,3]\n",
    "Output: 3\n",
    "Explanation: 1, 2 and 3 are all lucky numbers, return the largest of them.\n",
    "\n",
    "Example 3:\n",
    "\n",
    "Input: arr = [2,2,2,3,3]\n",
    "Output: -1\n",
    "Explanation: There are no lucky numbers in the array.\n",
    " \n",
    "\n",
    "Constraints:\n",
    "\n",
    "1 <= arr.length <= 500\n",
    "1 <= arr[i] <= 500"
   ]
  },
  {
   "cell_type": "code",
   "execution_count": 1,
   "id": "ae67f115",
   "metadata": {},
   "outputs": [],
   "source": [
    "def findLucky(self, arr):\n",
    "    \"\"\"\n",
    "    :type arr: List[int]\n",
    "    :rtype: int\n",
    "    \"\"\"     \n",
    "    x=list(set(arr))\n",
    "    m=[-1]\n",
    "    for i in x:\n",
    "        if i==arr.count(i):\n",
    "            m.append(i)\n",
    "    return(max(m))\n",
    "        "
   ]
  }
 ],
 "metadata": {
  "kernelspec": {
   "display_name": "Python 3",
   "language": "python",
   "name": "python3"
  },
  "language_info": {
   "codemirror_mode": {
    "name": "ipython",
    "version": 3
   },
   "file_extension": ".py",
   "mimetype": "text/x-python",
   "name": "python",
   "nbconvert_exporter": "python",
   "pygments_lexer": "ipython3",
   "version": "3.8.8"
  }
 },
 "nbformat": 4,
 "nbformat_minor": 5
}
