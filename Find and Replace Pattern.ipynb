{
 "cells": [
  {
   "cell_type": "markdown",
   "id": "5203a7f4",
   "metadata": {},
   "source": [
    "Given a list of strings words and a string pattern, return a list of words[i] that match pattern. You may return the answer in any order.\n",
    "\n",
    "A word matches the pattern if there exists a permutation of letters p so that after replacing every letter x in the pattern with p(x), we get the desired word.\n",
    "\n",
    "Recall that a permutation of letters is a bijection from letters to letters: every letter maps to another letter, and no two letters map to the same letter.\n",
    "\n",
    " \n",
    "\n",
    "Example 1:\n",
    "\n",
    "Input: words = [\"abc\",\"deq\",\"mee\",\"aqq\",\"dkd\",\"ccc\"], pattern = \"abb\"\n",
    "Output: [\"mee\",\"aqq\"]\n",
    "Explanation: \"mee\" matches the pattern because there is a permutation {a -> m, b -> e, ...}. \n",
    "\"ccc\" does not match the pattern because {a -> c, b -> c, ...} is not a permutation, since a and b map to the same letter.\n",
    "\n",
    "Example 2:\n",
    "\n",
    "Input: words = [\"a\",\"b\",\"c\"], pattern = \"a\"\n",
    "Output: [\"a\",\"b\",\"c\"]\n",
    " \n",
    "\n",
    "Constraints:\n",
    "\n",
    "1 <= pattern.length <= 20\n",
    "1 <= words.length <= 50\n",
    "words[i].length == pattern.length\n",
    "pattern and words[i] are lowercase English letters."
   ]
  },
  {
   "cell_type": "code",
   "execution_count": null,
   "id": "b03a3770",
   "metadata": {},
   "outputs": [],
   "source": [
    "def findAndReplacePattern(self, words, pattern):\n",
    "    \"\"\"\n",
    "    :type words: List[str]\n",
    "    :type pattern: str\n",
    "    :rtype: List[str]\n",
    "    \"\"\"\n",
    "    encoded_pattern=[]\n",
    "    encoded_words=[]\n",
    "    dic={}\n",
    "    for i in range(len(pattern)):\n",
    "        dic[pattern[i]]=i\n",
    "    for i in pattern:\n",
    "        encoded_pattern.append(dic.get(i))\n",
    "\n",
    "    for i in words:\n",
    "        dic_word={}\n",
    "        lis=[]\n",
    "        for m in range(len(i)):\n",
    "            dic_word[i[m]]=m\n",
    "        lis=[]\n",
    "        for k in i:\n",
    "            lis.append(dic_word.get(k))\n",
    "        encoded_words.append(lis)\n",
    "    output=[]\n",
    "    for l in range(len(encoded_words)):\n",
    "        if encoded_words[l]==encoded_pattern:\n",
    "            output.append(words[l])\n",
    "    return(output)\n",
    "        "
   ]
  }
 ],
 "metadata": {
  "kernelspec": {
   "display_name": "Python 3",
   "language": "python",
   "name": "python3"
  },
  "language_info": {
   "codemirror_mode": {
    "name": "ipython",
    "version": 3
   },
   "file_extension": ".py",
   "mimetype": "text/x-python",
   "name": "python",
   "nbconvert_exporter": "python",
   "pygments_lexer": "ipython3",
   "version": "3.8.8"
  }
 },
 "nbformat": 4,
 "nbformat_minor": 5
}
