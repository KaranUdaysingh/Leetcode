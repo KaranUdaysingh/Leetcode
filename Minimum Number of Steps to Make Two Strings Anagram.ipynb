{
 "cells": [
  {
   "cell_type": "markdown",
   "id": "2e327206",
   "metadata": {},
   "source": [
    "You are given two strings of the same length s and t. In one step you can choose any character of t and replace it with another character.\n",
    "\n",
    "Return the minimum number of steps to make t an anagram of s.\n",
    "\n",
    "An Anagram of a string is a string that contains the same characters with a different (or the same) ordering.\n",
    "\n",
    " \n",
    "\n",
    "Example 1:\n",
    "\n",
    "Input: s = \"bab\", t = \"aba\"\n",
    "Output: 1\n",
    "Explanation: Replace the first 'a' in t with b, t = \"bba\" which is anagram of s.\n",
    "\n",
    "Example 2:\n",
    "\n",
    "Input: s = \"leetcode\", t = \"practice\"\n",
    "Output: 5\n",
    "Explanation: Replace 'p', 'r', 'a', 'i' and 'c' from t with proper characters to make t anagram of s.\n",
    "\n",
    "Example 3:\n",
    "\n",
    "Input: s = \"anagram\", t = \"mangaar\"\n",
    "Output: 0\n",
    "Explanation: \"anagram\" and \"mangaar\" are anagrams. "
   ]
  },
  {
   "cell_type": "code",
   "execution_count": 1,
   "id": "df56fdd3",
   "metadata": {},
   "outputs": [],
   "source": [
    "def minSteps(s, t):\n",
    "    \"\"\"\n",
    "    :type s: str\n",
    "    :type t: str\n",
    "    :rtype: int\n",
    "    \"\"\"\n",
    "    temp=list(s)\n",
    "    out=[]\n",
    "    count=0\n",
    "    for i in range (len(t)):\n",
    "        if t[i] in temp:\n",
    "            temp.remove(t[i])\n",
    "            out.append(t[i])\n",
    "\n",
    "        else:\n",
    "            for j in range(len(temp)):\n",
    "                out.append(temp[j])\n",
    "                count=count+1\n",
    "                break          \n",
    "    return(count)\n",
    "        "
   ]
  }
 ],
 "metadata": {
  "kernelspec": {
   "display_name": "Python 3",
   "language": "python",
   "name": "python3"
  },
  "language_info": {
   "codemirror_mode": {
    "name": "ipython",
    "version": 3
   },
   "file_extension": ".py",
   "mimetype": "text/x-python",
   "name": "python",
   "nbconvert_exporter": "python",
   "pygments_lexer": "ipython3",
   "version": "3.8.8"
  }
 },
 "nbformat": 4,
 "nbformat_minor": 5
}
