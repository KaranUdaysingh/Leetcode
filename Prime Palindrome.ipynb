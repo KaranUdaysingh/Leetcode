{
 "cells": [
  {
   "cell_type": "markdown",
   "id": "500f2d37",
   "metadata": {},
   "source": [
    "Given an integer n, return the smallest prime palindrome greater than or equal to n.\n",
    "\n",
    "An integer is prime if it has exactly two divisors: 1 and itself. Note that 1 is not a prime number.\n",
    "\n",
    "For example, 2, 3, 5, 7, 11, and 13 are all primes.\n",
    "An integer is a palindrome if it reads the same from left to right as it does from right to left.\n",
    "\n",
    "For example, 101 and 12321 are palindromes.\n",
    "The test cases are generated so that the answer always exists and is in the range [2, 2 * 108].\n",
    "\n",
    " \n",
    "\n",
    "Example 1:\n",
    "\n",
    "Input: n = 6\n",
    "Output: 7\n",
    "\n",
    "Example 2:\n",
    "\n",
    "Input: n = 8\n",
    "Output: 11\n",
    "\n",
    "Example 3:\n",
    "\n",
    "Input: n = 13\n",
    "Output: 101\n",
    " \n",
    "\n",
    "Constraints:\n",
    "\n",
    "1 <= n <= 108"
   ]
  },
  {
   "cell_type": "code",
   "execution_count": null,
   "id": "66dee34b",
   "metadata": {},
   "outputs": [],
   "source": [
    "def primePalindrome(self, n):\n",
    "    \"\"\"\n",
    "    :type n: int\n",
    "    :rtype: int\n",
    "    \"\"\"\n",
    "    if n==1 or n==2:\n",
    "        return(2)\n",
    "    if n%2==0:\n",
    "        n=n+1\n",
    "    for i in range(n,2*(10**7),2):\n",
    "        st=str(i)\n",
    "        status=True\n",
    "        if st==st[::-1]:\n",
    "            if i%2!=0:\n",
    "                for j in range(3,int(i/3)+1,2):\n",
    "                    if i%j==0:\n",
    "                        status=False\n",
    "                if status:\n",
    "                    return(i)\n",
    "        "
   ]
  }
 ],
 "metadata": {
  "kernelspec": {
   "display_name": "Python 3",
   "language": "python",
   "name": "python3"
  },
  "language_info": {
   "codemirror_mode": {
    "name": "ipython",
    "version": 3
   },
   "file_extension": ".py",
   "mimetype": "text/x-python",
   "name": "python",
   "nbconvert_exporter": "python",
   "pygments_lexer": "ipython3",
   "version": "3.8.8"
  }
 },
 "nbformat": 4,
 "nbformat_minor": 5
}
