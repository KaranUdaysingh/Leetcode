{
 "cells": [
  {
   "cell_type": "markdown",
   "id": "31695371",
   "metadata": {},
   "source": [
    "Given a signed 32-bit integer x, return x with its digits reversed. If reversing x causes the value to go outside the signed 32-bit integer range [-231, 231 - 1], then return 0.\n",
    "\n",
    "Assume the environment does not allow you to store 64-bit integers (signed or unsigned).\n",
    "\n",
    " \n",
    "\n",
    "Example 1:\n",
    "\n",
    "Input: x = 123\n",
    "Output: 321\n",
    "\n",
    "Example 2:\n",
    "\n",
    "Input: x = -123\n",
    "Output: -321\n",
    "\n",
    "Example 3:\n",
    "\n",
    "Input: x = 120\n",
    "Output: 21\n",
    " \n",
    "\n",
    "Constraints:\n",
    "\n",
    "-231 <= x <= 231 - 1"
   ]
  },
  {
   "cell_type": "code",
   "execution_count": null,
   "id": "f689c4d4",
   "metadata": {},
   "outputs": [],
   "source": [
    "def reverse(x):\n",
    "        \"\"\"\n",
    "        :type x: int\n",
    "        :rtype: int\n",
    "        \"\"\"\n",
    "    if x<0:\n",
    "            if x%10==0:\n",
    "                m=str(x)\n",
    "                y=m [::-1]\n",
    "                lis=list(y)\n",
    "                lis.pop(0)\n",
    "                lis.pop(-1)\n",
    "            else:\n",
    "                m=str(x)\n",
    "                y=m [::-1]\n",
    "                lis=list(y)\n",
    "                lis.pop(-1)\n",
    "            out=\"\".join(map(str, lis))\n",
    "            if (-(2**31))<=(-1*int(out))<=((2**31)-1):\n",
    "                return(-1*int(out))\n",
    "            else:\n",
    "                return(0)\n",
    "        elif x>0:\n",
    "            if x%10==0:\n",
    "                m=str(x)\n",
    "                y=m [::-1]\n",
    "                lis=list(y)\n",
    "                lis.pop(0)\n",
    "            else:\n",
    "                m=str(x)\n",
    "                y=m [::-1]\n",
    "                lis=list(y)\n",
    "            out=\"\".join(map(str, lis))\n",
    "            if (-(2**31))<=(-1*int(out))<=((2**31)-1):\n",
    "                return(1*int(out))\n",
    "            else:\n",
    "                return(0)\n",
    "        elif x==0:\n",
    "            return(x)"
   ]
  }
 ],
 "metadata": {
  "kernelspec": {
   "display_name": "Python 3",
   "language": "python",
   "name": "python3"
  },
  "language_info": {
   "codemirror_mode": {
    "name": "ipython",
    "version": 3
   },
   "file_extension": ".py",
   "mimetype": "text/x-python",
   "name": "python",
   "nbconvert_exporter": "python",
   "pygments_lexer": "ipython3",
   "version": "3.8.8"
  }
 },
 "nbformat": 4,
 "nbformat_minor": 5
}
