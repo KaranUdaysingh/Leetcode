{
 "cells": [
  {
   "cell_type": "markdown",
   "id": "fce28c8b",
   "metadata": {},
   "source": [
    "# Sum of Floored Pairs"
   ]
  },
  {
   "cell_type": "markdown",
   "id": "42388eb7",
   "metadata": {},
   "source": [
    "Given an integer array nums, return the sum of floor(nums[i] / nums[j]) for all pairs of indices 0 <= i, j < nums.length in the array. Since the answer may be too large, return it modulo 109 + 7.\n",
    "\n",
    "The floor() function returns the integer part of the division.\n",
    "\n",
    " \n",
    "\n",
    "Example 1:\n",
    "\n",
    "Input: nums = [2,5,9]\n",
    "Output: 10\n",
    "Explanation:\n",
    "floor(2 / 5) = floor(2 / 9) = floor(5 / 9) = 0\n",
    "floor(2 / 2) = floor(5 / 5) = floor(9 / 9) = 1\n",
    "floor(5 / 2) = 2\n",
    "floor(9 / 2) = 4\n",
    "floor(9 / 5) = 1\n",
    "We calculate the floor of the division for every pair of indices in the array then sum them up.\n",
    "\n",
    "Example 2:\n",
    "\n",
    "Input: nums = [7,7,7,7,7,7,7]\n",
    "Output: 49\n",
    " \n",
    "\n",
    "Constraints:\n",
    "\n",
    "1 <= nums.length <= 105\n",
    "1 <= nums[i] <= 105"
   ]
  },
  {
   "cell_type": "code",
   "execution_count": null,
   "id": "cc0f7044",
   "metadata": {},
   "outputs": [],
   "source": [
    "def sumOfFlooredPairs(self, nums):\n",
    "    \"\"\"\n",
    "    :type nums: List[int]\n",
    "    :rtype: int\n",
    "    \"\"\"\n",
    "    import numpy as np\n",
    "    if nums.count(nums[0])==len(nums):\n",
    "        return(int(len(nums)*len(nums)))\n",
    "\n",
    "    else:       \n",
    "        count=0\n",
    "        nums=sorted(nums, reverse=True)\n",
    "        temp=np.array(nums)\n",
    "        for i in range(len(temp)):\n",
    "            count=count+(np.sum(np.floor(temp/temp[i])))\n",
    "        return(int(count))"
   ]
  },
  {
   "cell_type": "markdown",
   "id": "c0261b19",
   "metadata": {},
   "source": [
    "Note: The above code passed 19 test cases out of 51 test cases. The code show has time limit exceed from 20th test case."
   ]
  },
  {
   "cell_type": "code",
   "execution_count": null,
   "id": "a8c63a58",
   "metadata": {},
   "outputs": [],
   "source": []
  }
 ],
 "metadata": {
  "kernelspec": {
   "display_name": "Python 3",
   "language": "python",
   "name": "python3"
  },
  "language_info": {
   "codemirror_mode": {
    "name": "ipython",
    "version": 3
   },
   "file_extension": ".py",
   "mimetype": "text/x-python",
   "name": "python",
   "nbconvert_exporter": "python",
   "pygments_lexer": "ipython3",
   "version": "3.8.8"
  }
 },
 "nbformat": 4,
 "nbformat_minor": 5
}
